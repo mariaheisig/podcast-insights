{
 "cells": [
  {
   "cell_type": "markdown",
   "metadata": {},
   "source": [
    "# So you want to start a podcast?\n",
    "\n",
    "It seems that everybody has a podcast these days, and you want to get into the game. That is very understandable.\n",
    "\n",
    "Podcast hosts can charge anywhere between [18 USD and 25 USD per every 1 000 listeners](https://www.podcastinsights.com/make-money-podcasting/) on sponsorships alone, in addition to setting up Patreon, paywalls, and other forms of monetizations. Given than [68 million people in the United States](https://www.podcastinsights.com/podcast-statistics/) alone listen to podcasts weekly, it is a lucrative business.\n",
    "\n",
    "But what topic should you cover?\n",
    "\n",
    "To answer that question, we'll be working with an iTunes database that contains over 46 000 podcasts and 1.2 million reviews. The reviews date between 2005 and 2021, which provides us with plenty of historical data. The full database can be [here](https://www.kaggle.com/thoughtvector/podcastreviews).\n",
    "\n",
    "To determine the best topic and theme for a potential podcasts, we’ll do the following:\n",
    "\n",
    "- Determine what categories have the highest rating\n",
    "- Examine how that rating has changed over time\n",
    "- Look at the most popular podcast within the most popular categories to uncover any trends \n",
    "\n",
    "If you anxious to know the answers right away, [you can jump straight to the results.](#5.-Final-thoughts) Otherise, let's analyze this data together."
   ]
  },
  {
   "cell_type": "code",
   "execution_count": 1,
   "metadata": {},
   "outputs": [
    {
     "name": "stdout",
     "output_type": "stream",
     "text": [
      "Collecting package metadata (current_repodata.json): done\n",
      "Solving environment: done\n",
      "\n",
      "# All requested packages already installed.\n",
      "\n"
     ]
    }
   ],
   "source": [
    "!conda install -yc conda-forge ipython-sql"
   ]
  },
  {
   "cell_type": "code",
   "execution_count": 2,
   "metadata": {},
   "outputs": [],
   "source": [
    "%%capture\n",
    "%load_ext sql\n",
    "%sql sqlite:///database.sqlite"
   ]
  },
  {
   "cell_type": "markdown",
   "metadata": {},
   "source": [
    "## 1. Data overview\n",
    "\n",
    "Let's get a little overview of the data first.\n",
    "\n",
    "<b>This database contains four tables - runs, podcasts, categories, and reviews.</b> The runs table is of no interest to us since it doesn't contain podcast related information. We'll be excluding it from our analysis. "
   ]
  },
  {
   "cell_type": "code",
   "execution_count": 3,
   "metadata": {},
   "outputs": [
    {
     "name": "stdout",
     "output_type": "stream",
     "text": [
      " * sqlite:///database.sqlite\n",
      "Done.\n"
     ]
    },
    {
     "data": {
      "text/html": [
       "<table>\n",
       "    <thead>\n",
       "        <tr>\n",
       "            <th>type</th>\n",
       "            <th>name</th>\n",
       "        </tr>\n",
       "    </thead>\n",
       "    <tbody>\n",
       "        <tr>\n",
       "            <td>table</td>\n",
       "            <td>runs</td>\n",
       "        </tr>\n",
       "        <tr>\n",
       "            <td>table</td>\n",
       "            <td>podcasts</td>\n",
       "        </tr>\n",
       "        <tr>\n",
       "            <td>table</td>\n",
       "            <td>categories</td>\n",
       "        </tr>\n",
       "        <tr>\n",
       "            <td>table</td>\n",
       "            <td>reviews</td>\n",
       "        </tr>\n",
       "    </tbody>\n",
       "</table>"
      ],
      "text/plain": [
       "[('table', 'runs'),\n",
       " ('table', 'podcasts'),\n",
       " ('table', 'categories'),\n",
       " ('table', 'reviews')]"
      ]
     },
     "execution_count": 3,
     "metadata": {},
     "output_type": "execute_result"
    }
   ],
   "source": [
    "%%sql\n",
    "SELECT type, name\n",
    "  FROM sqlite_master\n",
    " WHERE type='table';"
   ]
  },
  {
   "cell_type": "markdown",
   "metadata": {},
   "source": [
    "Let's have a closer look at the remaining tables to see what information they contain. We'll being with Podcasts. \n",
    "\n",
    "It looks like each podcast has a unique ID as well as an iTunes ID. The slug and the title appear to be the same, only in slightly differnt format. In total, <b>we have 46 693 podcasts in this table.</b>"
   ]
  },
  {
   "cell_type": "code",
   "execution_count": 4,
   "metadata": {},
   "outputs": [
    {
     "name": "stdout",
     "output_type": "stream",
     "text": [
      " * sqlite:///database.sqlite\n",
      "Done.\n"
     ]
    },
    {
     "data": {
      "text/html": [
       "<table>\n",
       "    <thead>\n",
       "        <tr>\n",
       "            <th>podcast_id</th>\n",
       "            <th>itunes_id</th>\n",
       "            <th>slug</th>\n",
       "            <th>itunes_url</th>\n",
       "            <th>title</th>\n",
       "        </tr>\n",
       "    </thead>\n",
       "    <tbody>\n",
       "        <tr>\n",
       "            <td>a00018b54eb342567c94dacfb2a3e504</td>\n",
       "            <td>1313466221</td>\n",
       "            <td>scaling-global</td>\n",
       "            <td>https://podcasts.apple.com/us/podcast/scaling-global/id1313466221</td>\n",
       "            <td>Scaling Global</td>\n",
       "        </tr>\n",
       "        <tr>\n",
       "            <td>a00043d34e734b09246d17dc5d56f63c</td>\n",
       "            <td>158973461</td>\n",
       "            <td>cornerstone-baptist-church-of-orlando</td>\n",
       "            <td>https://podcasts.apple.com/us/podcast/cornerstone-baptist-church-of-orlando/id158973461</td>\n",
       "            <td>Cornerstone Baptist Church of Orlando</td>\n",
       "        </tr>\n",
       "        <tr>\n",
       "            <td>a0004b1ef445af9dc84dad1e7821b1e3</td>\n",
       "            <td>139076942</td>\n",
       "            <td>mystery-dancing-in-the-dark</td>\n",
       "            <td>https://podcasts.apple.com/us/podcast/mystery-dancing-in-the-dark/id139076942</td>\n",
       "            <td>Mystery: Dancing in the Dark</td>\n",
       "        </tr>\n",
       "        <tr>\n",
       "            <td>a00071f9aaae9ac725c3a586701abf4d</td>\n",
       "            <td>1332508972</td>\n",
       "            <td>kts-money-matters</td>\n",
       "            <td>https://podcasts.apple.com/us/podcast/kts-money-matters/id1332508972</td>\n",
       "            <td>KTs Money Matters</td>\n",
       "        </tr>\n",
       "        <tr>\n",
       "            <td>a000aa69852b276565c4f5eb9cdd999b</td>\n",
       "            <td>1342447811</td>\n",
       "            <td>speedway-soccer</td>\n",
       "            <td>https://podcasts.apple.com/us/podcast/speedway-soccer/id1342447811</td>\n",
       "            <td>Speedway Soccer</td>\n",
       "        </tr>\n",
       "    </tbody>\n",
       "</table>"
      ],
      "text/plain": [
       "[('a00018b54eb342567c94dacfb2a3e504', 1313466221, 'scaling-global', 'https://podcasts.apple.com/us/podcast/scaling-global/id1313466221', 'Scaling Global'),\n",
       " ('a00043d34e734b09246d17dc5d56f63c', 158973461, 'cornerstone-baptist-church-of-orlando', 'https://podcasts.apple.com/us/podcast/cornerstone-baptist-church-of-orlando/id158973461', 'Cornerstone Baptist Church of Orlando'),\n",
       " ('a0004b1ef445af9dc84dad1e7821b1e3', 139076942, 'mystery-dancing-in-the-dark', 'https://podcasts.apple.com/us/podcast/mystery-dancing-in-the-dark/id139076942', 'Mystery: Dancing in the Dark'),\n",
       " ('a00071f9aaae9ac725c3a586701abf4d', 1332508972, 'kts-money-matters', 'https://podcasts.apple.com/us/podcast/kts-money-matters/id1332508972', 'KTs Money Matters'),\n",
       " ('a000aa69852b276565c4f5eb9cdd999b', 1342447811, 'speedway-soccer', 'https://podcasts.apple.com/us/podcast/speedway-soccer/id1342447811', 'Speedway Soccer')]"
      ]
     },
     "execution_count": 4,
     "metadata": {},
     "output_type": "execute_result"
    }
   ],
   "source": [
    "%%sql\n",
    "SELECT *\n",
    "FROM podcasts\n",
    "LIMIT 5;"
   ]
  },
  {
   "cell_type": "code",
   "execution_count": 5,
   "metadata": {},
   "outputs": [
    {
     "name": "stdout",
     "output_type": "stream",
     "text": [
      " * sqlite:///database.sqlite\n",
      "Done.\n"
     ]
    },
    {
     "data": {
      "text/html": [
       "<table>\n",
       "    <thead>\n",
       "        <tr>\n",
       "            <th>tot_podcasts</th>\n",
       "        </tr>\n",
       "    </thead>\n",
       "    <tbody>\n",
       "        <tr>\n",
       "            <td>46693</td>\n",
       "        </tr>\n",
       "    </tbody>\n",
       "</table>"
      ],
      "text/plain": [
       "[(46693,)]"
      ]
     },
     "execution_count": 5,
     "metadata": {},
     "output_type": "execute_result"
    }
   ],
   "source": [
    "%%sql\n",
    "SELECT COUNT (DISTINCT podcast_id) tot_podcasts\n",
    "FROM podcasts;"
   ]
  },
  {
   "cell_type": "markdown",
   "metadata": {},
   "source": [
    "Category is next. The table is very simple, containing only the unique podcast ID and the corresponding category. <b> In total, there are 26 categories.</b> We’ll look at what they are later."
   ]
  },
  {
   "cell_type": "code",
   "execution_count": 6,
   "metadata": {},
   "outputs": [
    {
     "name": "stdout",
     "output_type": "stream",
     "text": [
      " * sqlite:///database.sqlite\n",
      "Done.\n"
     ]
    },
    {
     "data": {
      "text/html": [
       "<table>\n",
       "    <thead>\n",
       "        <tr>\n",
       "            <th>podcast_id</th>\n",
       "            <th>category</th>\n",
       "        </tr>\n",
       "    </thead>\n",
       "    <tbody>\n",
       "        <tr>\n",
       "            <td>c61aa81c9b929a66f0c1db6cbe5d8548</td>\n",
       "            <td>arts</td>\n",
       "        </tr>\n",
       "    </tbody>\n",
       "</table>"
      ],
      "text/plain": [
       "[('c61aa81c9b929a66f0c1db6cbe5d8548', 'arts')]"
      ]
     },
     "execution_count": 6,
     "metadata": {},
     "output_type": "execute_result"
    }
   ],
   "source": [
    "%%sql\n",
    "SELECT *\n",
    "FROM categories\n",
    "LIMIT 1;"
   ]
  },
  {
   "cell_type": "code",
   "execution_count": 7,
   "metadata": {},
   "outputs": [
    {
     "name": "stdout",
     "output_type": "stream",
     "text": [
      " * sqlite:///database.sqlite\n",
      "Done.\n"
     ]
    },
    {
     "data": {
      "text/html": [
       "<table>\n",
       "    <thead>\n",
       "        <tr>\n",
       "            <th>tot_categories</th>\n",
       "        </tr>\n",
       "    </thead>\n",
       "    <tbody>\n",
       "        <tr>\n",
       "            <td>26</td>\n",
       "        </tr>\n",
       "    </tbody>\n",
       "</table>"
      ],
      "text/plain": [
       "[(26,)]"
      ]
     },
     "execution_count": 7,
     "metadata": {},
     "output_type": "execute_result"
    }
   ],
   "source": [
    "%%sql\n",
    "\n",
    "SELECT \n",
    "    COUNT(DISTINCT category) tot_categories\n",
    "    FROM categories;"
   ]
  },
  {
   "cell_type": "markdown",
   "metadata": {},
   "source": [
    "Let's check if a given podcast belongs to one category or several:"
   ]
  },
  {
   "cell_type": "code",
   "execution_count": 8,
   "metadata": {},
   "outputs": [
    {
     "name": "stdout",
     "output_type": "stream",
     "text": [
      " * sqlite:///database.sqlite\n",
      "Done.\n"
     ]
    },
    {
     "data": {
      "text/html": [
       "<table>\n",
       "    <thead>\n",
       "        <tr>\n",
       "            <th>num_of_categories</th>\n",
       "            <th>num_of_pod</th>\n",
       "            <th>pct</th>\n",
       "        </tr>\n",
       "    </thead>\n",
       "    <tbody>\n",
       "        <tr>\n",
       "            <td>1</td>\n",
       "            <td>27853</td>\n",
       "            <td>59.65</td>\n",
       "        </tr>\n",
       "        <tr>\n",
       "            <td>2</td>\n",
       "            <td>13997</td>\n",
       "            <td>29.98</td>\n",
       "        </tr>\n",
       "        <tr>\n",
       "            <td>3</td>\n",
       "            <td>4259</td>\n",
       "            <td>9.12</td>\n",
       "        </tr>\n",
       "        <tr>\n",
       "            <td>4</td>\n",
       "            <td>556</td>\n",
       "            <td>1.19</td>\n",
       "        </tr>\n",
       "        <tr>\n",
       "            <td>5</td>\n",
       "            <td>25</td>\n",
       "            <td>0.05</td>\n",
       "        </tr>\n",
       "        <tr>\n",
       "            <td>6</td>\n",
       "            <td>3</td>\n",
       "            <td>0.01</td>\n",
       "        </tr>\n",
       "    </tbody>\n",
       "</table>"
      ],
      "text/plain": [
       "[('1', 27853, 59.65),\n",
       " ('2', 13997, 29.98),\n",
       " ('3', 4259, 9.12),\n",
       " ('4', 556, 1.19),\n",
       " ('5', 25, 0.05),\n",
       " ('6', 3, 0.01)]"
      ]
     },
     "execution_count": 8,
     "metadata": {},
     "output_type": "execute_result"
    }
   ],
   "source": [
    "%%sql\n",
    "SELECT\n",
    "    \n",
    "    CASE\n",
    "    WHEN count_cat = 1 THEN \"1\"\n",
    "    WHEN count_cat = 2 THEN \"2\"\n",
    "    WHEN count_cat = 3 THEN \"3\"\n",
    "    WHEN count_cat = 4 THEN \"4\"\n",
    "    WHEN count_cat = 5 THEN \"5\"\n",
    "    WHEN count_cat = 6 THEN \"6\"\n",
    "    WHEN count_cat = 7 THEN \"7\"\n",
    "    END AS num_of_categories,\n",
    "    \n",
    "    COUNT(pod_id) num_of_pod,\n",
    "    ROUND((CAST(COUNT(pod_id) AS FLOAT)/46693)*100, 2) pct\n",
    "    \n",
    "    FROM num_of_cat\n",
    "    \n",
    "    GROUP BY num_of_categories;"
   ]
  },
  {
   "cell_type": "markdown",
   "metadata": {},
   "source": [
    "We see that: \n",
    "\n",
    "- Almost 60% of all podcasts belong to only one category\n",
    "- Roughly 30% have two categories\n",
    "- The rest (10%) have three or more categories\n",
    "\n",
    "Next, let's look at Review table:"
   ]
  },
  {
   "cell_type": "code",
   "execution_count": 9,
   "metadata": {},
   "outputs": [
    {
     "name": "stdout",
     "output_type": "stream",
     "text": [
      " * sqlite:///database.sqlite\n",
      "Done.\n"
     ]
    },
    {
     "data": {
      "text/html": [
       "<table>\n",
       "    <thead>\n",
       "        <tr>\n",
       "            <th>podcast_id</th>\n",
       "            <th>title</th>\n",
       "            <th>content</th>\n",
       "            <th>rating</th>\n",
       "            <th>author_id</th>\n",
       "            <th>created_at</th>\n",
       "        </tr>\n",
       "    </thead>\n",
       "    <tbody>\n",
       "        <tr>\n",
       "            <td>c61aa81c9b929a66f0c1db6cbe5d8548</td>\n",
       "            <td>really interesting!</td>\n",
       "            <td>Thanks for providing these insights.  Really enjoy the variety and depth -- please keep them coming!</td>\n",
       "            <td>5</td>\n",
       "            <td>F7E5A318989779D</td>\n",
       "            <td>2018-04-24T12:05:16-07:00</td>\n",
       "        </tr>\n",
       "    </tbody>\n",
       "</table>"
      ],
      "text/plain": [
       "[('c61aa81c9b929a66f0c1db6cbe5d8548', 'really interesting!', 'Thanks for providing these insights.  Really enjoy the variety and depth -- please keep them coming!', 5, 'F7E5A318989779D', '2018-04-24T12:05:16-07:00')]"
      ]
     },
     "execution_count": 9,
     "metadata": {},
     "output_type": "execute_result"
    }
   ],
   "source": [
    "%%sql\n",
    "SELECT *\n",
    "FROM reviews\n",
    "LIMIT 1;"
   ]
  },
  {
   "cell_type": "markdown",
   "metadata": {},
   "source": [
    "Here, we have the full review, as well as rating and a unique author ID. "
   ]
  },
  {
   "cell_type": "code",
   "execution_count": 10,
   "metadata": {},
   "outputs": [
    {
     "name": "stdout",
     "output_type": "stream",
     "text": [
      " * sqlite:///database.sqlite\n",
      "Done.\n"
     ]
    },
    {
     "data": {
      "text/html": [
       "<table>\n",
       "    <thead>\n",
       "        <tr>\n",
       "            <th>tot_reviews</th>\n",
       "        </tr>\n",
       "    </thead>\n",
       "    <tbody>\n",
       "        <tr>\n",
       "            <td>1280337</td>\n",
       "        </tr>\n",
       "    </tbody>\n",
       "</table>"
      ],
      "text/plain": [
       "[(1280337,)]"
      ]
     },
     "execution_count": 10,
     "metadata": {},
     "output_type": "execute_result"
    }
   ],
   "source": [
    "%%sql\n",
    "SELECT\n",
    "    COUNT (*) tot_reviews\n",
    "    FROM reviews;"
   ]
  },
  {
   "cell_type": "markdown",
   "metadata": {},
   "source": [
    "#### Key observations\n",
    "\n",
    "- The Podcasts table contains <b>46 693 podcasts</b> that spread across <b>26 categories</b>\n",
    "- There are <b>1 280 337 reviews</b> in total\n",
    "- <b>60% of all podcasts belong to only one category</b>, while the rest belong to two or more"
   ]
  },
  {
   "cell_type": "markdown",
   "metadata": {},
   "source": [
    "## 2. An overview of podcast categories\n",
    "\n",
    "Let's dive deeper into the 26 unique categories. First, we'll determine the number of podcasts in each one:"
   ]
  },
  {
   "cell_type": "code",
   "execution_count": 11,
   "metadata": {},
   "outputs": [
    {
     "name": "stdout",
     "output_type": "stream",
     "text": [
      " * sqlite:///database.sqlite\n",
      "Done.\n"
     ]
    },
    {
     "data": {
      "text/html": [
       "<table>\n",
       "    <thead>\n",
       "        <tr>\n",
       "            <th>category</th>\n",
       "            <th>tot_podcasts</th>\n",
       "            <th>percentage</th>\n",
       "        </tr>\n",
       "    </thead>\n",
       "    <tbody>\n",
       "        <tr>\n",
       "            <td>society-culture</td>\n",
       "            <td>10073</td>\n",
       "            <td>22.0</td>\n",
       "        </tr>\n",
       "        <tr>\n",
       "            <td>comedy</td>\n",
       "            <td>8080</td>\n",
       "            <td>17.0</td>\n",
       "        </tr>\n",
       "        <tr>\n",
       "            <td>religion-spirituality</td>\n",
       "            <td>7588</td>\n",
       "            <td>16.0</td>\n",
       "        </tr>\n",
       "        <tr>\n",
       "            <td>business</td>\n",
       "            <td>6208</td>\n",
       "            <td>13.0</td>\n",
       "        </tr>\n",
       "        <tr>\n",
       "            <td>arts</td>\n",
       "            <td>5576</td>\n",
       "            <td>12.0</td>\n",
       "        </tr>\n",
       "        <tr>\n",
       "            <td>education</td>\n",
       "            <td>5334</td>\n",
       "            <td>11.0</td>\n",
       "        </tr>\n",
       "        <tr>\n",
       "            <td>tv-film</td>\n",
       "            <td>5130</td>\n",
       "            <td>11.0</td>\n",
       "        </tr>\n",
       "        <tr>\n",
       "            <td>christianity</td>\n",
       "            <td>4997</td>\n",
       "            <td>11.0</td>\n",
       "        </tr>\n",
       "        <tr>\n",
       "            <td>music</td>\n",
       "            <td>4123</td>\n",
       "            <td>9.0</td>\n",
       "        </tr>\n",
       "        <tr>\n",
       "            <td>technology</td>\n",
       "            <td>2328</td>\n",
       "            <td>5.0</td>\n",
       "        </tr>\n",
       "        <tr>\n",
       "            <td>society-culture-personal-journals</td>\n",
       "            <td>1668</td>\n",
       "            <td>4.0</td>\n",
       "        </tr>\n",
       "        <tr>\n",
       "            <td>kids-family</td>\n",
       "            <td>1657</td>\n",
       "            <td>4.0</td>\n",
       "        </tr>\n",
       "        <tr>\n",
       "            <td>business-careers</td>\n",
       "            <td>1399</td>\n",
       "            <td>3.0</td>\n",
       "        </tr>\n",
       "        <tr>\n",
       "            <td>spirituality</td>\n",
       "            <td>1152</td>\n",
       "            <td>2.0</td>\n",
       "        </tr>\n",
       "        <tr>\n",
       "            <td>arts-performing-arts</td>\n",
       "            <td>1078</td>\n",
       "            <td>2.0</td>\n",
       "        </tr>\n",
       "        <tr>\n",
       "            <td>society-culture-places-travel</td>\n",
       "            <td>831</td>\n",
       "            <td>2.0</td>\n",
       "        </tr>\n",
       "        <tr>\n",
       "            <td>society-culture-philosophy</td>\n",
       "            <td>765</td>\n",
       "            <td>2.0</td>\n",
       "        </tr>\n",
       "        <tr>\n",
       "            <td>business-investing</td>\n",
       "            <td>714</td>\n",
       "            <td>2.0</td>\n",
       "        </tr>\n",
       "        <tr>\n",
       "            <td>arts-visual-arts</td>\n",
       "            <td>710</td>\n",
       "            <td>2.0</td>\n",
       "        </tr>\n",
       "        <tr>\n",
       "            <td>arts-food</td>\n",
       "            <td>606</td>\n",
       "            <td>1.0</td>\n",
       "        </tr>\n",
       "        <tr>\n",
       "            <td>arts-design</td>\n",
       "            <td>348</td>\n",
       "            <td>1.0</td>\n",
       "        </tr>\n",
       "        <tr>\n",
       "            <td>arts-fashion-beauty</td>\n",
       "            <td>248</td>\n",
       "            <td>1.0</td>\n",
       "        </tr>\n",
       "        <tr>\n",
       "            <td>judaism</td>\n",
       "            <td>148</td>\n",
       "            <td>0.0</td>\n",
       "        </tr>\n",
       "        <tr>\n",
       "            <td>islam</td>\n",
       "            <td>120</td>\n",
       "            <td>0.0</td>\n",
       "        </tr>\n",
       "        <tr>\n",
       "            <td>buddhism</td>\n",
       "            <td>89</td>\n",
       "            <td>0.0</td>\n",
       "        </tr>\n",
       "        <tr>\n",
       "            <td>hinduism</td>\n",
       "            <td>21</td>\n",
       "            <td>0.0</td>\n",
       "        </tr>\n",
       "    </tbody>\n",
       "</table>"
      ],
      "text/plain": [
       "[('society-culture', 10073, 22.0),\n",
       " ('comedy', 8080, 17.0),\n",
       " ('religion-spirituality', 7588, 16.0),\n",
       " ('business', 6208, 13.0),\n",
       " ('arts', 5576, 12.0),\n",
       " ('education', 5334, 11.0),\n",
       " ('tv-film', 5130, 11.0),\n",
       " ('christianity', 4997, 11.0),\n",
       " ('music', 4123, 9.0),\n",
       " ('technology', 2328, 5.0),\n",
       " ('society-culture-personal-journals', 1668, 4.0),\n",
       " ('kids-family', 1657, 4.0),\n",
       " ('business-careers', 1399, 3.0),\n",
       " ('spirituality', 1152, 2.0),\n",
       " ('arts-performing-arts', 1078, 2.0),\n",
       " ('society-culture-places-travel', 831, 2.0),\n",
       " ('society-culture-philosophy', 765, 2.0),\n",
       " ('business-investing', 714, 2.0),\n",
       " ('arts-visual-arts', 710, 2.0),\n",
       " ('arts-food', 606, 1.0),\n",
       " ('arts-design', 348, 1.0),\n",
       " ('arts-fashion-beauty', 248, 1.0),\n",
       " ('judaism', 148, 0.0),\n",
       " ('islam', 120, 0.0),\n",
       " ('buddhism', 89, 0.0),\n",
       " ('hinduism', 21, 0.0)]"
      ]
     },
     "execution_count": 11,
     "metadata": {},
     "output_type": "execute_result"
    }
   ],
   "source": [
    "%%sql\n",
    "\n",
    "SELECT \n",
    "    c.category,\n",
    "    COUNT(*) tot_podcasts,\n",
    "    ROUND(CAST(COUNT(*) AS FLOAT)/(\n",
    "                                    SELECT \n",
    "                                    COUNT(*)\n",
    "                                    FROM podcasts),2)*100 percentage\n",
    "    FROM categories c \n",
    "    \n",
    "    LEFT JOIN podcasts p ON p.podcast_id = c.podcast_id\n",
    "    \n",
    "    GROUP BY c.category\n",
    "    ORDER BY tot_podcasts DESC;"
   ]
  },
  {
   "cell_type": "markdown",
   "metadata": {},
   "source": [
    "#### Key observations\n",
    "\n",
    "- Some subject, such as art, business, and culture are split into subgroup, which makes sense since some topics can be very broad. Subgroups makes categorization more accurate.\n",
    "\n",
    "- <b>Society-culture is the most saturated category</b> by far. It has over 10 000 different podcasts, which amounts to 22% of all podcasts on iTunes. \n",
    "\n",
    "- The two runnerups are very close in saturation - Comedy (17%) and Religion-Spirituality (16%).\n",
    "\n",
    "- Out of the 26 categories, <b>the top three categories amount to 55% of all podcasts</b> on iTunes.\n"
   ]
  },
  {
   "cell_type": "markdown",
   "metadata": {},
   "source": [
    "For further analysis, we'll focus on the ten categories with the most podcasts.\n",
    "\n",
    "## 3. Podcast popularity\n",
    "\n",
    "Next, let's focus on reviews and ratings. Sure, the Society-Culture category has the most podcasts. But are they any good?\n",
    "\n",
    "By using the number of reviews and the overall rating, we can try to determine what categories are the most popular among listeners. \n",
    "\n",
    "Let's find the average rating for each top 10 category and the number of reviews they got."
   ]
  },
  {
   "cell_type": "code",
   "execution_count": 12,
   "metadata": {},
   "outputs": [
    {
     "name": "stdout",
     "output_type": "stream",
     "text": [
      " * sqlite:///database.sqlite\n",
      "Done.\n"
     ]
    },
    {
     "data": {
      "text/html": [
       "<table>\n",
       "    <thead>\n",
       "        <tr>\n",
       "            <th>category</th>\n",
       "            <th>avg_rating</th>\n",
       "            <th>num_of_reviews</th>\n",
       "        </tr>\n",
       "    </thead>\n",
       "    <tbody>\n",
       "        <tr>\n",
       "            <td>business</td>\n",
       "            <td>4.825</td>\n",
       "            <td>135458</td>\n",
       "        </tr>\n",
       "        <tr>\n",
       "            <td>religion-spirituality</td>\n",
       "            <td>4.811</td>\n",
       "            <td>95173</td>\n",
       "        </tr>\n",
       "        <tr>\n",
       "            <td>christianity</td>\n",
       "            <td>4.8</td>\n",
       "            <td>57903</td>\n",
       "        </tr>\n",
       "        <tr>\n",
       "            <td>education</td>\n",
       "            <td>4.795</td>\n",
       "            <td>119906</td>\n",
       "        </tr>\n",
       "        <tr>\n",
       "            <td>music</td>\n",
       "            <td>4.783</td>\n",
       "            <td>42617</td>\n",
       "        </tr>\n",
       "        <tr>\n",
       "            <td>arts</td>\n",
       "            <td>4.733</td>\n",
       "            <td>95862</td>\n",
       "        </tr>\n",
       "        <tr>\n",
       "            <td>comedy</td>\n",
       "            <td>4.634</td>\n",
       "            <td>256910</td>\n",
       "        </tr>\n",
       "        <tr>\n",
       "            <td>society-culture</td>\n",
       "            <td>4.541</td>\n",
       "            <td>286061</td>\n",
       "        </tr>\n",
       "        <tr>\n",
       "            <td>technology</td>\n",
       "            <td>4.536</td>\n",
       "            <td>35576</td>\n",
       "        </tr>\n",
       "        <tr>\n",
       "            <td>tv-film</td>\n",
       "            <td>4.518</td>\n",
       "            <td>124324</td>\n",
       "        </tr>\n",
       "    </tbody>\n",
       "</table>"
      ],
      "text/plain": [
       "[('business', 4.825, 135458),\n",
       " ('religion-spirituality', 4.811, 95173),\n",
       " ('christianity', 4.8, 57903),\n",
       " ('education', 4.795, 119906),\n",
       " ('music', 4.783, 42617),\n",
       " ('arts', 4.733, 95862),\n",
       " ('comedy', 4.634, 256910),\n",
       " ('society-culture', 4.541, 286061),\n",
       " ('technology', 4.536, 35576),\n",
       " ('tv-film', 4.518, 124324)]"
      ]
     },
     "execution_count": 12,
     "metadata": {},
     "output_type": "execute_result"
    }
   ],
   "source": [
    "%%sql\n",
    "\n",
    "WITH top_10 AS \n",
    "          (SELECT category FROM (SELECT \n",
    "                c.category,\n",
    "                COUNT(*) tot_podcasts\n",
    "\n",
    "                FROM podcasts p\n",
    "\n",
    "                LEFT JOIN categories c ON p.podcast_id = c.podcast_id\n",
    "\n",
    "                GROUP BY c.category\n",
    "                ORDER BY tot_podcasts DESC\n",
    "                LIMIT 10\n",
    "                                ))\n",
    "                                \n",
    "\n",
    "\n",
    "SELECT \n",
    "    c.category category,\n",
    "    ROUND(AVG(r.rating),3) avg_rating,\n",
    "    COUNT(*) num_of_reviews\n",
    "\n",
    "    FROM podcasts p\n",
    "    \n",
    "    LEFT JOIN categories c ON p.podcast_id = c.podcast_id\n",
    "    LEFT JOIN reviews r ON r.podcast_id = p.podcast_id \n",
    "    \n",
    "    WHERE category IN top_10\n",
    "    \n",
    "    GROUP BY c.category\n",
    "    ORDER BY 2 DESC;"
   ]
  },
  {
   "cell_type": "markdown",
   "metadata": {},
   "source": [
    "#### Key observations\n",
    "\n",
    "- The average ratings don't actually vary significantly among the top 10 categories. The best category has an average rating of 4.825 while the worst has 4.518. Given that the top rating is 5, no category can be deemed bad.\n",
    "- <b>The most popular category is business.</b> Religion-Spirituality and Christianity are in a very close second and third. \n",
    "- Christianity is, in a way, a subgenre of the Religion-Spirituality category, which reinforces <b>the popularity of the religious podcasts</b> even more."
   ]
  },
  {
   "cell_type": "markdown",
   "metadata": {},
   "source": [
    "### 3.1 Podcast popularity over time\n",
    "\n",
    "Now that we know that Business, Religion-Spirituality, and Christianity are more popular than other categories, let's have a look the average rating over time.\n",
    "\n",
    "Has popularity of different categories fluctuated a lot over the years?\n",
    "\n",
    "To determine that, we need to first separate the data out into different time periods:\n",
    "\n",
    "- three months\n",
    "- six months\n",
    "- one year\n",
    "- five years\n",
    "- all time\n",
    "\n",
    "...and then calculate the average ratings for each period."
   ]
  },
  {
   "cell_type": "code",
   "execution_count": 13,
   "metadata": {},
   "outputs": [
    {
     "name": "stdout",
     "output_type": "stream",
     "text": [
      " * sqlite:///database.sqlite\n",
      "Done.\n",
      "Done.\n",
      "Done.\n",
      "Done.\n",
      "Done.\n",
      "Done.\n",
      "Done.\n",
      "Done.\n",
      "Done.\n",
      "Done.\n",
      "Done.\n",
      "Done.\n"
     ]
    },
    {
     "data": {
      "text/plain": [
       "[]"
      ]
     },
     "execution_count": 13,
     "metadata": {},
     "output_type": "execute_result"
    }
   ],
   "source": [
    "%%sql\n",
    "\n",
    "DROP VIEW IF EXISTS three_m;\n",
    "CREATE VIEW three_m AS\n",
    "        SELECT \n",
    "            c.category category,\n",
    "            ROUND(AVG(r.rating),3) avg_rating_3m\n",
    "\n",
    "            FROM podcasts p\n",
    "\n",
    "            LEFT JOIN categories c ON p.podcast_id = c.podcast_id\n",
    "            LEFT JOIN reviews r ON r.podcast_id = p.podcast_id \n",
    "\n",
    "            WHERE (created_at LIKE \"2021-10%\" OR created_at LIKE \"2021-09%\" OR created_at LIKE \"2021-08%\")\n",
    "\n",
    "            GROUP BY c.category;\n",
    "\n",
    "\n",
    "DROP VIEW IF EXISTS six_m;            \n",
    "CREATE VIEW six_m AS\n",
    "        SELECT \n",
    "            c.category category,\n",
    "            ROUND(AVG(r.rating),3) avg_rating_6m\n",
    "\n",
    "            FROM podcasts p\n",
    "\n",
    "            LEFT JOIN categories c ON p.podcast_id = c.podcast_id\n",
    "            LEFT JOIN reviews r ON r.podcast_id = p.podcast_id \n",
    "\n",
    "            WHERE (created_at LIKE \"2021-10%\" \n",
    "                   OR created_at LIKE \"2021-09%\" \n",
    "                   OR created_at LIKE \"2021-08%\" \n",
    "                   OR created_at LIKE \"2021-07%\" \n",
    "                   OR created_at LIKE \"2021-06%\" \n",
    "                   OR created_at LIKE \"2021-05%\")\n",
    "\n",
    "            GROUP BY c.category;\n",
    "\n",
    "\n",
    "DROP VIEW IF EXISTS five_years;         \n",
    "CREATE VIEW five_years AS\n",
    "        SELECT \n",
    "            c.category category,\n",
    "            ROUND(AVG(r.rating),3) avg_rating_5y\n",
    "\n",
    "            FROM podcasts p\n",
    "\n",
    "            LEFT JOIN categories c ON p.podcast_id = c.podcast_id\n",
    "            LEFT JOIN reviews r ON r.podcast_id = p.podcast_id \n",
    "\n",
    "            WHERE (created_at LIKE \"2021-%\"\n",
    "                   OR created_at LIKE \"2020-%\"\n",
    "                   OR created_at LIKE \"2019-%\"\n",
    "                   OR created_at LIKE \"2018-%\"\n",
    "                   OR created_at LIKE \"2017-%\")\n",
    "\n",
    "            GROUP BY c.category;\n",
    "            \n",
    "DROP VIEW IF EXISTS three_years;         \n",
    "CREATE VIEW three_years AS\n",
    "        SELECT \n",
    "            c.category category,\n",
    "            ROUND(AVG(r.rating),3) avg_rating_3y\n",
    "\n",
    "            FROM podcasts p\n",
    "\n",
    "            LEFT JOIN categories c ON p.podcast_id = c.podcast_id\n",
    "            LEFT JOIN reviews r ON r.podcast_id = p.podcast_id \n",
    "\n",
    "            WHERE (created_at LIKE \"2021-%\"\n",
    "                   OR created_at LIKE \"2020-%\"\n",
    "                   OR created_at LIKE \"2019-%\")\n",
    "\n",
    "            GROUP BY c.category;\n",
    "            \n",
    "            \n",
    "DROP VIEW IF EXISTS twelve_m; \n",
    "CREATE VIEW twelve_m AS\n",
    "        SELECT \n",
    "            c.category category,\n",
    "            ROUND(AVG(r.rating),3) avg_rating_12m\n",
    "\n",
    "            FROM podcasts p\n",
    "\n",
    "            LEFT JOIN categories c ON p.podcast_id = c.podcast_id\n",
    "            LEFT JOIN reviews r ON r.podcast_id = p.podcast_id \n",
    "\n",
    "            WHERE (created_at LIKE \"2021-10%\" \n",
    "                   OR created_at LIKE \"2021-09%\" \n",
    "                   OR created_at LIKE \"2021-08%\" \n",
    "                   OR created_at LIKE \"2021-07%\" \n",
    "                   OR created_at LIKE \"2021-06%\" \n",
    "                   OR created_at LIKE \"2021-05%\"\n",
    "                   OR created_at LIKE \"2021-04%\"\n",
    "                   OR created_at LIKE \"2021-03%\"\n",
    "                   OR created_at LIKE \"2021-02%\"\n",
    "                   OR created_at LIKE \"2021-01%\"\n",
    "                   OR created_at LIKE \"2020-12%\"\n",
    "                   OR created_at LIKE \"2020-11%\")\n",
    "\n",
    "            GROUP BY c.category;\n",
    "\n",
    "            \n",
    "DROP VIEW IF EXISTS all_ratings; \n",
    "CREATE VIEW all_ratings AS\n",
    "SELECT \n",
    "    c.category category,\n",
    "    ROUND(AVG(r.rating),3) avg_rating\n",
    "\n",
    "    FROM podcasts p\n",
    "    \n",
    "    LEFT JOIN categories c ON p.podcast_id = c.podcast_id\n",
    "    LEFT JOIN reviews r ON r.podcast_id = p.podcast_id \n",
    "    \n",
    "    WHERE category IN top_10\n",
    "    \n",
    "    GROUP BY c.category\n",
    "    ORDER BY 1 DESC;"
   ]
  },
  {
   "cell_type": "code",
   "execution_count": 14,
   "metadata": {
    "scrolled": true
   },
   "outputs": [
    {
     "name": "stdout",
     "output_type": "stream",
     "text": [
      " * sqlite:///database.sqlite\n",
      "Done.\n"
     ]
    },
    {
     "data": {
      "text/html": [
       "<table>\n",
       "    <thead>\n",
       "        <tr>\n",
       "            <th>category</th>\n",
       "            <th>avg_rating_3m</th>\n",
       "            <th>avg_rating_6m</th>\n",
       "            <th>avg_rating_12m</th>\n",
       "            <th>avg_rating_3y</th>\n",
       "            <th>avg_rating_5y</th>\n",
       "            <th>all_time</th>\n",
       "        </tr>\n",
       "    </thead>\n",
       "    <tbody>\n",
       "        <tr>\n",
       "            <td>business</td>\n",
       "            <td>4.742</td>\n",
       "            <td>4.629</td>\n",
       "            <td>4.637</td>\n",
       "            <td>4.762</td>\n",
       "            <td>4.814</td>\n",
       "            <td>4.825</td>\n",
       "        </tr>\n",
       "        <tr>\n",
       "            <td>religion-spirituality</td>\n",
       "            <td>4.717</td>\n",
       "            <td>4.742</td>\n",
       "            <td>4.755</td>\n",
       "            <td>4.794</td>\n",
       "            <td>4.812</td>\n",
       "            <td>4.811</td>\n",
       "        </tr>\n",
       "        <tr>\n",
       "            <td>christianity</td>\n",
       "            <td>4.624</td>\n",
       "            <td>4.65</td>\n",
       "            <td>4.69</td>\n",
       "            <td>4.771</td>\n",
       "            <td>4.792</td>\n",
       "            <td>4.8</td>\n",
       "        </tr>\n",
       "        <tr>\n",
       "            <td>education</td>\n",
       "            <td>4.704</td>\n",
       "            <td>4.676</td>\n",
       "            <td>4.689</td>\n",
       "            <td>4.759</td>\n",
       "            <td>4.789</td>\n",
       "            <td>4.795</td>\n",
       "        </tr>\n",
       "        <tr>\n",
       "            <td>music</td>\n",
       "            <td>4.696</td>\n",
       "            <td>4.569</td>\n",
       "            <td>4.573</td>\n",
       "            <td>4.738</td>\n",
       "            <td>4.776</td>\n",
       "            <td>4.783</td>\n",
       "        </tr>\n",
       "        <tr>\n",
       "            <td>arts</td>\n",
       "            <td>4.571</td>\n",
       "            <td>4.521</td>\n",
       "            <td>4.543</td>\n",
       "            <td>4.689</td>\n",
       "            <td>4.73</td>\n",
       "            <td>4.733</td>\n",
       "        </tr>\n",
       "        <tr>\n",
       "            <td>comedy</td>\n",
       "            <td>4.386</td>\n",
       "            <td>4.351</td>\n",
       "            <td>4.421</td>\n",
       "            <td>4.545</td>\n",
       "            <td>4.606</td>\n",
       "            <td>4.634</td>\n",
       "        </tr>\n",
       "        <tr>\n",
       "            <td>society-culture</td>\n",
       "            <td>4.343</td>\n",
       "            <td>4.291</td>\n",
       "            <td>4.299</td>\n",
       "            <td>4.446</td>\n",
       "            <td>4.514</td>\n",
       "            <td>4.541</td>\n",
       "        </tr>\n",
       "        <tr>\n",
       "            <td>technology</td>\n",
       "            <td>3.53</td>\n",
       "            <td>3.568</td>\n",
       "            <td>3.775</td>\n",
       "            <td>4.305</td>\n",
       "            <td>4.46</td>\n",
       "            <td>4.536</td>\n",
       "        </tr>\n",
       "        <tr>\n",
       "            <td>tv-film</td>\n",
       "            <td>4.294</td>\n",
       "            <td>4.273</td>\n",
       "            <td>4.282</td>\n",
       "            <td>4.34</td>\n",
       "            <td>4.458</td>\n",
       "            <td>4.518</td>\n",
       "        </tr>\n",
       "    </tbody>\n",
       "</table>"
      ],
      "text/plain": [
       "[('business', 4.742, 4.629, 4.637, 4.762, 4.814, 4.825),\n",
       " ('religion-spirituality', 4.717, 4.742, 4.755, 4.794, 4.812, 4.811),\n",
       " ('christianity', 4.624, 4.65, 4.69, 4.771, 4.792, 4.8),\n",
       " ('education', 4.704, 4.676, 4.689, 4.759, 4.789, 4.795),\n",
       " ('music', 4.696, 4.569, 4.573, 4.738, 4.776, 4.783),\n",
       " ('arts', 4.571, 4.521, 4.543, 4.689, 4.73, 4.733),\n",
       " ('comedy', 4.386, 4.351, 4.421, 4.545, 4.606, 4.634),\n",
       " ('society-culture', 4.343, 4.291, 4.299, 4.446, 4.514, 4.541),\n",
       " ('technology', 3.53, 3.568, 3.775, 4.305, 4.46, 4.536),\n",
       " ('tv-film', 4.294, 4.273, 4.282, 4.34, 4.458, 4.518)]"
      ]
     },
     "execution_count": 14,
     "metadata": {},
     "output_type": "execute_result"
    }
   ],
   "source": [
    "%%sql\n",
    "\n",
    "WITH \n",
    "    top_10 AS \n",
    "          (SELECT category FROM (SELECT \n",
    "                c.category,\n",
    "                COUNT(*) tot_podcasts\n",
    "\n",
    "                FROM podcasts p\n",
    "\n",
    "                LEFT JOIN categories c ON p.podcast_id = c.podcast_id\n",
    "\n",
    "                GROUP BY c.category\n",
    "                ORDER BY tot_podcasts DESC\n",
    "                LIMIT 10\n",
    "                                ))\n",
    "\n",
    "\n",
    "SELECT \n",
    "    three_m.category,\n",
    "    avg_rating_3m,\n",
    "    avg_rating_6m,\n",
    "    avg_rating_12m,\n",
    "    avg_rating_3y,\n",
    "    avg_rating_5y,\n",
    "    avg_rating all_time\n",
    "    \n",
    "    FROM three_m\n",
    "    \n",
    "    INNER JOIN six_m ON three_m.category = six_m.category\n",
    "    INNER JOIN twelve_m ON three_m.category = twelve_m.category\n",
    "    INNER JOIN five_years ON three_m.category = five_years.category\n",
    "    INNER JOIN all_ratings ar ON three_m.category = ar.category\n",
    "    INNER JOIN three_years ON three_m.category = three_years.category\n",
    "    \n",
    "    WHERE three_m.category IN top_10\n",
    "    \n",
    "    GROUP BY three_m.category\n",
    "    ORDER BY all_time DESC;"
   ]
  },
  {
   "cell_type": "markdown",
   "metadata": {},
   "source": [
    "#### Key observations\n",
    "\n",
    "- Apart from technology, no category has experienced a significant increase or decrease in popularity.\n",
    "- <b>Business has seen a sligth dip and then an increase in popularity</b> if we look at the average ratings from three, six and twelve months ago. Those changes aren't very big.\n",
    "- Podcasts related to <b>Regilion-Spirituality and Christianity have been sligthly less popular in the last years</b> but the change isn't significant either.\n",
    "\n",
    "Based on this, we can conclude that <b> the popularity of Business, Religion-Spirituality, and Christianity podcasts holds up over time</b>. "
   ]
  },
  {
   "cell_type": "markdown",
   "metadata": {},
   "source": [
    "With that in mind, let's look closer at the three categories, and try to figure out what axactly within those broad topics interest people the most.\n",
    "\n",
    "## 4. Top podcasts within business and religion\n",
    "\n",
    "Let's look at the top 10 podcasts in each chosen category to see if the titles will shed any more light on what spesific topics interest people within those categories.\n",
    "\n",
    "Here, we'll look at the number of reviews as one way to gauge engagement. Also, we'll use the all-time average rating as a benchmark to exclude any podcasts that get a lot of reviews but have a lower rating. "
   ]
  },
  {
   "cell_type": "code",
   "execution_count": 15,
   "metadata": {},
   "outputs": [
    {
     "name": "stdout",
     "output_type": "stream",
     "text": [
      " * sqlite:///database.sqlite\n",
      "Done.\n"
     ]
    },
    {
     "data": {
      "text/html": [
       "<table>\n",
       "    <thead>\n",
       "        <tr>\n",
       "            <th>podcast_name</th>\n",
       "            <th>num_of_reviews</th>\n",
       "            <th>avg_rating</th>\n",
       "        </tr>\n",
       "    </thead>\n",
       "    <tbody>\n",
       "        <tr>\n",
       "            <td>Know Your Aura with Mystic Michaela</td>\n",
       "            <td>4339</td>\n",
       "            <td>4.988</td>\n",
       "        </tr>\n",
       "        <tr>\n",
       "            <td>Highest Self Podcast</td>\n",
       "            <td>1865</td>\n",
       "            <td>4.93</td>\n",
       "        </tr>\n",
       "        <tr>\n",
       "            <td>That Sounds Fun with Annie F. Downs</td>\n",
       "            <td>982</td>\n",
       "            <td>4.93</td>\n",
       "        </tr>\n",
       "        <tr>\n",
       "            <td>The Next Right Thing</td>\n",
       "            <td>830</td>\n",
       "            <td>4.943</td>\n",
       "        </tr>\n",
       "        <tr>\n",
       "            <td>Born to Impact</td>\n",
       "            <td>782</td>\n",
       "            <td>4.881</td>\n",
       "        </tr>\n",
       "        <tr>\n",
       "            <td>Journeywomen</td>\n",
       "            <td>760</td>\n",
       "            <td>4.975</td>\n",
       "        </tr>\n",
       "        <tr>\n",
       "            <td>Real Life Ghost Stories</td>\n",
       "            <td>720</td>\n",
       "            <td>4.957</td>\n",
       "        </tr>\n",
       "        <tr>\n",
       "            <td>Timothy Keller Sermons Podcast by Gospel in Life</td>\n",
       "            <td>709</td>\n",
       "            <td>4.882</td>\n",
       "        </tr>\n",
       "        <tr>\n",
       "            <td>Pints With Aquinas</td>\n",
       "            <td>649</td>\n",
       "            <td>4.908</td>\n",
       "        </tr>\n",
       "        <tr>\n",
       "            <td>The Positive Head Podcast</td>\n",
       "            <td>636</td>\n",
       "            <td>4.874</td>\n",
       "        </tr>\n",
       "    </tbody>\n",
       "</table>"
      ],
      "text/plain": [
       "[('Know Your Aura with Mystic Michaela', 4339, 4.988),\n",
       " ('Highest Self Podcast', 1865, 4.93),\n",
       " ('That Sounds Fun with Annie F. Downs', 982, 4.93),\n",
       " ('The Next Right Thing', 830, 4.943),\n",
       " ('Born to Impact', 782, 4.881),\n",
       " ('Journeywomen', 760, 4.975),\n",
       " ('Real Life Ghost Stories', 720, 4.957),\n",
       " ('Timothy Keller Sermons Podcast by Gospel in Life', 709, 4.882),\n",
       " ('Pints With Aquinas', 649, 4.908),\n",
       " ('The Positive Head Podcast', 636, 4.874)]"
      ]
     },
     "execution_count": 15,
     "metadata": {},
     "output_type": "execute_result"
    }
   ],
   "source": [
    "%%sql\n",
    "\n",
    "SELECT \n",
    "    p.title podcast_name,\n",
    "    COUNT(*) num_of_reviews,\n",
    "    ROUND(AVG(r.rating),3) avg_rating\n",
    "\n",
    "    FROM podcasts p\n",
    "    \n",
    "    LEFT JOIN categories c ON p.podcast_id = c.podcast_id\n",
    "    LEFT JOIN reviews r ON r.podcast_id = p.podcast_id \n",
    "    \n",
    "    WHERE (c.category = \"religion-spirituality\") \n",
    "    \n",
    "    GROUP BY 1\n",
    "    HAVING avg_rating >=4.811\n",
    "    ORDER BY 2 DESC\n",
    "    LIMIT 10;"
   ]
  },
  {
   "cell_type": "code",
   "execution_count": 16,
   "metadata": {
    "scrolled": true
   },
   "outputs": [
    {
     "name": "stdout",
     "output_type": "stream",
     "text": [
      " * sqlite:///database.sqlite\n",
      "Done.\n"
     ]
    },
    {
     "data": {
      "text/html": [
       "<table>\n",
       "    <thead>\n",
       "        <tr>\n",
       "            <th>podcast_name</th>\n",
       "            <th>num_of_reviews</th>\n",
       "            <th>avg_rating</th>\n",
       "        </tr>\n",
       "    </thead>\n",
       "    <tbody>\n",
       "        <tr>\n",
       "            <td>That Sounds Fun with Annie F. Downs</td>\n",
       "            <td>982</td>\n",
       "            <td>4.93</td>\n",
       "        </tr>\n",
       "        <tr>\n",
       "            <td>The Next Right Thing</td>\n",
       "            <td>830</td>\n",
       "            <td>4.943</td>\n",
       "        </tr>\n",
       "        <tr>\n",
       "            <td>Born to Impact</td>\n",
       "            <td>782</td>\n",
       "            <td>4.881</td>\n",
       "        </tr>\n",
       "        <tr>\n",
       "            <td>Journeywomen</td>\n",
       "            <td>760</td>\n",
       "            <td>4.975</td>\n",
       "        </tr>\n",
       "        <tr>\n",
       "            <td>The Bible Binge</td>\n",
       "            <td>713</td>\n",
       "            <td>4.801</td>\n",
       "        </tr>\n",
       "        <tr>\n",
       "            <td>Timothy Keller Sermons Podcast by Gospel in Life</td>\n",
       "            <td>709</td>\n",
       "            <td>4.882</td>\n",
       "        </tr>\n",
       "        <tr>\n",
       "            <td>Pints With Aquinas</td>\n",
       "            <td>649</td>\n",
       "            <td>4.908</td>\n",
       "        </tr>\n",
       "        <tr>\n",
       "            <td>Exploring My Strange Bible</td>\n",
       "            <td>633</td>\n",
       "            <td>4.983</td>\n",
       "        </tr>\n",
       "        <tr>\n",
       "            <td>Heart of Dating</td>\n",
       "            <td>583</td>\n",
       "            <td>4.931</td>\n",
       "        </tr>\n",
       "        <tr>\n",
       "            <td>FILL IN THE BLANK with Carlos Whittaker</td>\n",
       "            <td>544</td>\n",
       "            <td>4.991</td>\n",
       "        </tr>\n",
       "    </tbody>\n",
       "</table>"
      ],
      "text/plain": [
       "[('That Sounds Fun with Annie F. Downs', 982, 4.93),\n",
       " ('The Next Right Thing', 830, 4.943),\n",
       " ('Born to Impact', 782, 4.881),\n",
       " ('Journeywomen', 760, 4.975),\n",
       " ('The Bible Binge', 713, 4.801),\n",
       " ('Timothy Keller Sermons Podcast by Gospel in Life', 709, 4.882),\n",
       " ('Pints With Aquinas', 649, 4.908),\n",
       " ('Exploring My Strange Bible', 633, 4.983),\n",
       " ('Heart of Dating', 583, 4.931),\n",
       " ('FILL IN THE BLANK with Carlos Whittaker', 544, 4.991)]"
      ]
     },
     "execution_count": 16,
     "metadata": {},
     "output_type": "execute_result"
    }
   ],
   "source": [
    "%%sql    \n",
    "SELECT \n",
    "    p.title podcast_name,\n",
    "    COUNT(*) num_of_reviews,\n",
    "    ROUND(AVG(r.rating),3) avg_rating\n",
    "\n",
    "    FROM podcasts p\n",
    "    \n",
    "    LEFT JOIN categories c ON p.podcast_id = c.podcast_id\n",
    "    LEFT JOIN reviews r ON r.podcast_id = p.podcast_id \n",
    "    \n",
    "    WHERE c.category = \"christianity\"\n",
    "    \n",
    "    GROUP BY 1\n",
    "    HAVING avg_rating >=4.8\n",
    "    ORDER BY 2 DESC\n",
    "    LIMIT 10;"
   ]
  },
  {
   "cell_type": "markdown",
   "metadata": {},
   "source": [
    "By looking at Religion-Spirituality and Christianity, we find:\n",
    "\n",
    "- <b>Some podcasts appear in both categories</b>. For example, Journeywomen, That Sounds Fun with Annie F.Downs, and The Next Rigth Thing.\n",
    "- The top podcasts within Religion-Spirituality seems to lean towards spiritual and even supernatural topics rather than spesific world religions. \n",
    "- Podcasts within <b>Religion-Spirituality category get more reviews</b> than Christianity podcasts, which can point towards a bigger audience."
   ]
  },
  {
   "cell_type": "code",
   "execution_count": 17,
   "metadata": {},
   "outputs": [
    {
     "name": "stdout",
     "output_type": "stream",
     "text": [
      " * sqlite:///database.sqlite\n",
      "Done.\n"
     ]
    },
    {
     "data": {
      "text/html": [
       "<table>\n",
       "    <thead>\n",
       "        <tr>\n",
       "            <th>podcast_name</th>\n",
       "            <th>num_of_reviews</th>\n",
       "            <th>avg_rating</th>\n",
       "        </tr>\n",
       "    </thead>\n",
       "    <tbody>\n",
       "        <tr>\n",
       "            <td>Don&#x27;t Keep Your Day Job</td>\n",
       "            <td>2253</td>\n",
       "            <td>4.928</td>\n",
       "        </tr>\n",
       "        <tr>\n",
       "            <td>Jocko Podcast</td>\n",
       "            <td>1233</td>\n",
       "            <td>4.873</td>\n",
       "        </tr>\n",
       "        <tr>\n",
       "            <td>Sassy Lashes</td>\n",
       "            <td>1145</td>\n",
       "            <td>4.993</td>\n",
       "        </tr>\n",
       "        <tr>\n",
       "            <td>Macro Voices</td>\n",
       "            <td>839</td>\n",
       "            <td>4.862</td>\n",
       "        </tr>\n",
       "        <tr>\n",
       "            <td>Build Your Tribe | Grow Your Business with Social Media</td>\n",
       "            <td>679</td>\n",
       "            <td>4.963</td>\n",
       "        </tr>\n",
       "        <tr>\n",
       "            <td>The Playbook</td>\n",
       "            <td>627</td>\n",
       "            <td>4.861</td>\n",
       "        </tr>\n",
       "        <tr>\n",
       "            <td>Unstoppable Success Radio</td>\n",
       "            <td>615</td>\n",
       "            <td>4.985</td>\n",
       "        </tr>\n",
       "        <tr>\n",
       "            <td>Kwik Brain with Jim Kwik</td>\n",
       "            <td>607</td>\n",
       "            <td>4.896</td>\n",
       "        </tr>\n",
       "        <tr>\n",
       "            <td>Join Up Dots Podcast</td>\n",
       "            <td>592</td>\n",
       "            <td>4.985</td>\n",
       "        </tr>\n",
       "        <tr>\n",
       "            <td>The Smart Passive Income Online Business and Blogging Podcast</td>\n",
       "            <td>574</td>\n",
       "            <td>4.875</td>\n",
       "        </tr>\n",
       "    </tbody>\n",
       "</table>"
      ],
      "text/plain": [
       "[(\"Don't Keep Your Day Job\", 2253, 4.928),\n",
       " ('Jocko Podcast', 1233, 4.873),\n",
       " ('Sassy Lashes', 1145, 4.993),\n",
       " ('Macro Voices', 839, 4.862),\n",
       " ('Build Your Tribe | Grow Your Business with Social Media', 679, 4.963),\n",
       " ('The Playbook', 627, 4.861),\n",
       " ('Unstoppable Success Radio', 615, 4.985),\n",
       " ('Kwik Brain with Jim Kwik', 607, 4.896),\n",
       " ('Join Up Dots Podcast', 592, 4.985),\n",
       " ('The Smart Passive Income Online Business and Blogging Podcast', 574, 4.875)]"
      ]
     },
     "execution_count": 17,
     "metadata": {},
     "output_type": "execute_result"
    }
   ],
   "source": [
    "%%sql    \n",
    "SELECT \n",
    "    p.title podcast_name,\n",
    "    COUNT(*) num_of_reviews,\n",
    "    ROUND(AVG(r.rating),3) avg_rating\n",
    "\n",
    "    FROM podcasts p\n",
    "    \n",
    "    LEFT JOIN categories c ON p.podcast_id = c.podcast_id\n",
    "    LEFT JOIN reviews r ON r.podcast_id = p.podcast_id \n",
    "    \n",
    "    WHERE c.category = \"business\"\n",
    "    \n",
    "    GROUP BY 1\n",
    "    HAVING avg_rating >=4.825\n",
    "    ORDER BY 2 DESC\n",
    "    LIMIT 10;"
   ]
  },
  {
   "cell_type": "markdown",
   "metadata": {},
   "source": [
    "The Business category is more of a mixed of different topics. A bit of online research provides us with an overview of the spisific topics the top 10 podcasts cover:\n",
    "\n",
    "- Don't Keep Your Day Job: caters to aspiring entreprenuers and creative freelancers\n",
    "- Jocko Podcast: topics related to military\n",
    "- Sassy Lashes: a podcast about the eye lash business\n",
    "- Macro Voices: financial podcast covering the stock market\n",
    "- Build Yout Tribe: social media marketing\n",
    "- The Playbook: personal and professional advice from C-level professionals and enteprenuers\n",
    "- Unstoppable Success Radio: personal and professional advice geared towards coaches, speakers and authors \n",
    "- Kwik Brain wtih Jim Kwik: personal growth \n",
    "- Join Up Dots Podcast: mindset and motivation for entreprenuers\n",
    "- The Smart Passiv Income Online Business and Blogging: online business and creative business tips\n",
    "\n",
    "\n",
    "A clear trend emerges among these top 10 podcasts: <b>enterprenuerial content seems to be very popular among listeners of Business podcasts.</b>"
   ]
  },
  {
   "cell_type": "markdown",
   "metadata": {},
   "source": [
    "# 5. Final thoughts\n",
    "\n",
    "So, what should your future podcast be about?\n",
    "\n",
    "Based on the data you have three choices: Business, Religion-Spirituality, or Christianity. \n",
    "\n",
    "They are the highest rated categories of all times across 26 categories. They are also the only categories with an average rating above 4.8. \n",
    "\n",
    "- Business: 4.825\n",
    "- Spirituality: 4.811\n",
    "- Christianity: 4.8\t\n",
    "\n",
    "Their popularity hold up well over time. The lowest average rating each category has had is still pretty high:\n",
    "\n",
    "- Business: 4.626\n",
    "- Spirituality: 4.742\n",
    "- Christianity: 4.624\n",
    "\n",
    "### 5.1 Business\n",
    "If you choose Business, your best bet is to target entreprenuers and provide some sort of professional advice. This is based on the top 10 podcasts in the category. \n",
    "\n",
    "\n",
    "### 5.2 Christianity and Religion-Spirituality\n",
    "The topic of Christianity of pretty self-explanatory. \n",
    "\n",
    "When it comes to Religion-Spiritiality, however, you might want to focus on spiritual topics that do not pertain to any religion at all. As seen in the top 10 podcasts within Religion-Spirituality, a lot of them touch on subjects that either avoid religion, or have a christian undertone. There is also some overlap between top 10 Religion-Spirituality pocasts and top 10 Christianity podcasts. \n",
    "\n",
    "Religion-Spirituality podcasts might have the potential for a bigger audience compared to Christianity (judging by the number of reviews):\n",
    "\n",
    "- Spirituality: 95173 total reviews\n",
    "- Christianity: 57903 total reviews\n",
    "\n",
    "But it's also the most saturated category of the two:\n",
    "\n",
    "- Spirituality: 7588 podcasts\t\n",
    "- Christianity: 4997 podcasts"
   ]
  },
  {
   "cell_type": "markdown",
   "metadata": {},
   "source": [
    "# 6. Bonus content: how many users listed to/rated more than one podcast\n",
    "\n",
    "We already know that podcasts are a popular media to consume. But how many people listen to more than one podcast? \n",
    "\n",
    "To figure that out, we can look at the number of reviews they leave on each distinct podcast. Of cource, that still leaves the possibility that people listen to some podcasts than they review. But for the sake of this analysis, we'll put that aside."
   ]
  },
  {
   "cell_type": "code",
   "execution_count": 18,
   "metadata": {
    "scrolled": true
   },
   "outputs": [
    {
     "name": "stdout",
     "output_type": "stream",
     "text": [
      " * sqlite:///database.sqlite\n",
      "Done.\n",
      "Done.\n"
     ]
    },
    {
     "data": {
      "text/plain": [
       "[]"
      ]
     },
     "execution_count": 18,
     "metadata": {},
     "output_type": "execute_result"
    }
   ],
   "source": [
    "%%sql    \n",
    "DROP VIEW IF EXISTS pod_users; \n",
    "CREATE VIEW pod_users AS\n",
    "    SELECT \n",
    "        r.author_id users,\n",
    "        COUNT(DISTINCT p.title) num_of_podcasts,\n",
    "        COUNT(*) num_of_reviews,\n",
    "\n",
    "        CASE\n",
    "        WHEN COUNT(DISTINCT p.title) = 1 THEN \"1\"\n",
    "        WHEN COUNT(DISTINCT p.title) = 2 THEN \"2\"\n",
    "        WHEN COUNT(DISTINCT p.title) = 3 THEN \"3\"\n",
    "        WHEN COUNT(DISTINCT p.title) = 4 THEN \"4\"\n",
    "        WHEN COUNT(DISTINCT p.title) = 5 THEN \"5\"\n",
    "        WHEN COUNT(DISTINCT p.title) = 6 THEN \"6\"\n",
    "        WHEN COUNT(DISTINCT p.title) = 7 THEN \"7\"\n",
    "        WHEN COUNT(DISTINCT p.title) = 8 THEN \"8\"\n",
    "        WHEN COUNT(DISTINCT p.title) = 9 THEN \"9\"\n",
    "        WHEN COUNT(DISTINCT p.title) >= 10 THEN \"over 10\"\n",
    "        END AS podcast_quantity\n",
    "\n",
    "        FROM podcasts p\n",
    "\n",
    "        LEFT JOIN categories c ON p.podcast_id = c.podcast_id\n",
    "        LEFT JOIN reviews r ON r.podcast_id = p.podcast_id\n",
    "\n",
    "        GROUP BY 1\n",
    "        ORDER BY 2 DESC;"
   ]
  },
  {
   "cell_type": "code",
   "execution_count": 19,
   "metadata": {},
   "outputs": [
    {
     "name": "stdout",
     "output_type": "stream",
     "text": [
      " * sqlite:///database.sqlite\n",
      "Done.\n"
     ]
    },
    {
     "data": {
      "text/html": [
       "<table>\n",
       "    <thead>\n",
       "        <tr>\n",
       "            <th>COUNT(DISTINCT users)</th>\n",
       "        </tr>\n",
       "    </thead>\n",
       "    <tbody>\n",
       "        <tr>\n",
       "            <td>755438</td>\n",
       "        </tr>\n",
       "    </tbody>\n",
       "</table>"
      ],
      "text/plain": [
       "[(755438,)]"
      ]
     },
     "execution_count": 19,
     "metadata": {},
     "output_type": "execute_result"
    }
   ],
   "source": [
    "%%sql \n",
    "SELECT COUNT(DISTINCT users) FROM pod_users;"
   ]
  },
  {
   "cell_type": "code",
   "execution_count": 20,
   "metadata": {},
   "outputs": [
    {
     "name": "stdout",
     "output_type": "stream",
     "text": [
      " * sqlite:///database.sqlite\n",
      "Done.\n"
     ]
    },
    {
     "data": {
      "text/html": [
       "<table>\n",
       "    <thead>\n",
       "        <tr>\n",
       "            <th>podcast_quantity</th>\n",
       "            <th>num_of_users</th>\n",
       "            <th>user_pct</th>\n",
       "        </tr>\n",
       "    </thead>\n",
       "    <tbody>\n",
       "        <tr>\n",
       "            <td>1</td>\n",
       "            <td>653768</td>\n",
       "            <td>86.542</td>\n",
       "        </tr>\n",
       "        <tr>\n",
       "            <td>2</td>\n",
       "            <td>69208</td>\n",
       "            <td>9.161</td>\n",
       "        </tr>\n",
       "        <tr>\n",
       "            <td>3</td>\n",
       "            <td>17639</td>\n",
       "            <td>2.335</td>\n",
       "        </tr>\n",
       "        <tr>\n",
       "            <td>4</td>\n",
       "            <td>6696</td>\n",
       "            <td>0.886</td>\n",
       "        </tr>\n",
       "        <tr>\n",
       "            <td>5</td>\n",
       "            <td>3012</td>\n",
       "            <td>0.399</td>\n",
       "        </tr>\n",
       "        <tr>\n",
       "            <td>6</td>\n",
       "            <td>1556</td>\n",
       "            <td>0.206</td>\n",
       "        </tr>\n",
       "        <tr>\n",
       "            <td>7</td>\n",
       "            <td>975</td>\n",
       "            <td>0.129</td>\n",
       "        </tr>\n",
       "        <tr>\n",
       "            <td>8</td>\n",
       "            <td>635</td>\n",
       "            <td>0.084</td>\n",
       "        </tr>\n",
       "        <tr>\n",
       "            <td>9</td>\n",
       "            <td>449</td>\n",
       "            <td>0.059</td>\n",
       "        </tr>\n",
       "        <tr>\n",
       "            <td>over 10</td>\n",
       "            <td>1500</td>\n",
       "            <td>0.199</td>\n",
       "        </tr>\n",
       "    </tbody>\n",
       "</table>"
      ],
      "text/plain": [
       "[('1', 653768, 86.542),\n",
       " ('2', 69208, 9.161),\n",
       " ('3', 17639, 2.335),\n",
       " ('4', 6696, 0.886),\n",
       " ('5', 3012, 0.399),\n",
       " ('6', 1556, 0.206),\n",
       " ('7', 975, 0.129),\n",
       " ('8', 635, 0.084),\n",
       " ('9', 449, 0.059),\n",
       " ('over 10', 1500, 0.199)]"
      ]
     },
     "execution_count": 20,
     "metadata": {},
     "output_type": "execute_result"
    }
   ],
   "source": [
    "%%sql    \n",
    "SELECT\n",
    "    podcast_quantity,\n",
    "    COUNT(*) num_of_users,\n",
    "    ROUND((CAST(COUNT(*) AS FLOAT)/755438)*100, 3) user_pct\n",
    "    \n",
    "    FROM pod_users\n",
    "    \n",
    "    GROUP BY podcast_quantity \n",
    "    ORDER BY podcast_quantity ASC;"
   ]
  },
  {
   "cell_type": "markdown",
   "metadata": {},
   "source": [
    "We see that: \n",
    "\n",
    "- The majority of people, 86.5%, have rated only one podcast. \n",
    "- Almost 10% have rated two podcasts.\n",
    "- 2.3% have rate three podcasts.\n",
    "- Only 2% of people rate more than 4 podcasts.\n",
    "\n",
    "This tells us that in <b>86% of the time, you only have one chance to capture the attention of the listener.</b>"
   ]
  }
 ],
 "metadata": {
  "kernelspec": {
   "display_name": "Python 3",
   "language": "python",
   "name": "python3"
  },
  "language_info": {
   "codemirror_mode": {
    "name": "ipython",
    "version": 3
   },
   "file_extension": ".py",
   "mimetype": "text/x-python",
   "name": "python",
   "nbconvert_exporter": "python",
   "pygments_lexer": "ipython3",
   "version": "3.8.3"
  }
 },
 "nbformat": 4,
 "nbformat_minor": 4
}
